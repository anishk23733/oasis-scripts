{
 "cells": [
  {
   "cell_type": "code",
   "execution_count": 2,
   "metadata": {},
   "outputs": [
    {
     "name": "stderr",
     "output_type": "stream",
     "text": [
      "/home/anish/experiments/oasis-scripts/venv/lib/python3.9/site-packages/tqdm/auto.py:21: TqdmWarning: IProgress not found. Please update jupyter and ipywidgets. See https://ipywidgets.readthedocs.io/en/stable/user_install.html\n",
      "  from .autonotebook import tqdm as notebook_tqdm\n"
     ]
    }
   ],
   "source": [
    "from dotenv import load_dotenv\n",
    "\n",
    "load_dotenv()\n",
    "\n",
    "from langchain_iris import IRISVector\n",
    "from langchain.embeddings import HuggingFaceEmbeddings\n",
    "\n",
    "embeddings = HuggingFaceEmbeddings(model_name=\"all-mpnet-base-v2\")"
   ]
  },
  {
   "cell_type": "code",
   "execution_count": 3,
   "metadata": {},
   "outputs": [],
   "source": [
    "username = 'SUPERUSER'\n",
    "password = 'oasis' # Replace password with password you set \n",
    "# http://localhost:52773/csp/sys/UtilHome.csp\n",
    "# change from 'SYS'\n",
    "hostname = 'localhost' \n",
    "port = '1972' \n",
    "namespace = 'USER'\n",
    "CONNECTION_STRING = f\"iris://{username}:{password}@{hostname}:{port}/{namespace}\"\n",
    "COLLECTION_NAME = \"vectordb\"\n",
    "\n",
    "db = IRISVector(\n",
    "    embedding_function=embeddings,\n",
    "    dimension=768,\n",
    "    collection_name=COLLECTION_NAME,\n",
    "    connection_string=CONNECTION_STRING,\n",
    ")"
   ]
  },
  {
   "cell_type": "code",
   "execution_count": 4,
   "metadata": {},
   "outputs": [],
   "source": [
    "# db.delete_collection()"
   ]
  },
  {
   "cell_type": "code",
   "execution_count": 5,
   "metadata": {},
   "outputs": [],
   "source": [
    "query = \"tell me about breaches of customer privacy and losses\"\n",
    "docs_with_score = db.similarity_search_with_score(query, k=10)"
   ]
  },
  {
   "cell_type": "code",
   "execution_count": 6,
   "metadata": {},
   "outputs": [
    {
     "name": "stdout",
     "output_type": "stream",
     "text": [
      "Score:  0.404625565802928\n",
      "{'value': '0', 'metric': True, 'topic': 'G', 'description': 'Number of complaints (breaches of customer privacy) received from outside parties and substantiated by Qualcomm.', 'tags': ['privacy', 'cybersecurity'], 'id': '2022.204', 'year': '2022', 'company': 'Qualcomm Incorporated'}\n",
      "Score:  0.404621352624312\n",
      "{'value': 'Transparency Report', 'metric': False, 'topic': 'G', 'description': \"Report providing information on Apple's transparency and compliance with government requests for customer data.\", 'tags': ['transparency', 'data privacy'], 'id': '2022.71', 'year': '2022', 'company': 'Apple Inc.'}\n",
      "Score:  0.404121006264615\n",
      "{'value': '0', 'metric': True, 'topic': 'G', 'description': 'Number of complaints received from outside parties and substantiated by Qualcomm regarding breaches of customer privacy.', 'tags': ['customer privacy', 'compliance'], 'id': '2021.234', 'year': '2021', 'company': 'Qualcomm Incorporated'}\n",
      "Score:  0.403576991734565\n",
      "{'value': 'none', 'metric': False, 'topic': 'G', 'description': 'No substantiated complaints regarding breaches of customer privacy or data in 2019 or in the three years prior.', 'tags': ['customer privacy'], 'id': '2019.264', 'year': '2019', 'company': 'Qualcomm Incorporated'}\n",
      "Score:  0.356514188184685\n",
      "{'value': '418-1', 'metric': False, 'topic': 'G', 'description': 'GRI Standard Disclosure Number for substantiated complaints concerning breaches of customer privacy and losses of customer data.', 'tags': ['GRI', 'disclosure'], 'id': '2019.268', 'year': '2019', 'company': 'Qualcomm Incorporated'}\n",
      "Score:  0.30552422114335\n",
      "{'value': 'none', 'metric': False, 'topic': 'S', 'description': 'Substantiated complaints concerning breaches of customer privacy and losses of customer data that were disclosed in the company’s SEC filings in FY19.', 'tags': ['customer privacy'], 'id': '2019.549', 'year': '2019', 'company': 'NVIDIA Corporation'}\n",
      "Score:  0.283543712868852\n",
      "{'value': 'none', 'metric': False, 'topic': 'G', 'description': 'Substantiated complaints concerning breaches of customer privacy and losses of customer data. We did not receive any substantiated complaints regarding breaches of customer privacy or data in 2022 or in the three years prior.', 'tags': ['customer privacy', 'data security'], 'id': '2022.271', 'year': '2022', 'company': 'Qualcomm Incorporated'}\n",
      "Score:  0.214217997496842\n",
      "{'value': 'none', 'metric': False, 'topic': 'S', 'description': 'Description of substantiated complaints concerning breaches of customer privacy and losses of customer data in 2020 and the three years prior.', 'tags': ['customer privacy', 'data security'], 'id': '2020.201', 'year': '2020', 'company': 'Qualcomm Incorporated'}\n",
      "Score:  0.198962211255176\n",
      "{'value': '418-1', 'metric': False, 'topic': 'G', 'description': 'Substantiated complaints concerning breaches of customer privacy and losses of customer data.', 'tags': ['customer privacy', 'data security'], 'id': '2020.561', 'year': '2020', 'company': 'NVIDIA Corporation'}\n",
      "Score:  0.198962211255176\n",
      "{'value': '2016418-1', 'metric': False, 'topic': 'S', 'description': 'Substantiated complaints concerning breaches of customer privacy and losses of customer data.', 'tags': ['customer privacy', 'compliance'], 'id': '2021.538', 'year': '2021', 'company': 'NVIDIA Corporation'}\n"
     ]
    }
   ],
   "source": [
    "for doc, score in docs_with_score[::-1]:\n",
    "    # print(\"-\" * 80)\n",
    "    print(\"Score: \", score)\n",
    "    print(doc.metadata)\n",
    "    # print(\"-\" * 80)"
   ]
  },
  {
   "cell_type": "code",
   "execution_count": 13,
   "metadata": {},
   "outputs": [
    {
     "name": "stdout",
     "output_type": "stream",
     "text": [
      "tags=['IRISVector'] vectorstore=<langchain_iris.vectorstores.IRISVector object at 0x7f000b3cc040> search_type='similarity_score_threshold' search_kwargs={'k': 50, 'score_threshold': 0.15, 'filter': {}}\n"
     ]
    }
   ],
   "source": [
    "retriever = db.as_retriever(search_type=\"similarity_score_threshold\", search_kwargs={\n",
    "    \"k\": 50,\n",
    "    \"score_threshold\": .15,\n",
    "    \"filter\": {}\n",
    "})\n",
    "print(retriever)"
   ]
  },
  {
   "cell_type": "code",
   "execution_count": 14,
   "metadata": {},
   "outputs": [
    {
     "data": {
      "text/plain": [
       "[Document(page_content='Substantiated complaints concerning breaches of customer privacy and losses of customer data.', metadata={'value': '2016418-1', 'metric': False, 'topic': 'S', 'description': 'Substantiated complaints concerning breaches of customer privacy and losses of customer data.', 'tags': ['customer privacy', 'compliance'], 'id': '2021.538', 'year': '2021', 'company': 'NVIDIA Corporation'}),\n",
       " Document(page_content='Substantiated complaints concerning breaches of customer privacy and losses of customer data.', metadata={'value': '418-1', 'metric': False, 'topic': 'G', 'description': 'Substantiated complaints concerning breaches of customer privacy and losses of customer data.', 'tags': ['customer privacy', 'data security'], 'id': '2020.561', 'year': '2020', 'company': 'NVIDIA Corporation'}),\n",
       " Document(page_content='Description of substantiated complaints concerning breaches of customer privacy and losses of customer data in 2020 and the three years prior.', metadata={'value': 'none', 'metric': False, 'topic': 'S', 'description': 'Description of substantiated complaints concerning breaches of customer privacy and losses of customer data in 2020 and the three years prior.', 'tags': ['customer privacy', 'data security'], 'id': '2020.201', 'year': '2020', 'company': 'Qualcomm Incorporated'}),\n",
       " Document(page_content='Substantiated complaints concerning breaches of customer privacy and losses of customer data. We did not receive any substantiated complaints regarding breaches of customer privacy or data in 2022 or in the three years prior.', metadata={'value': 'none', 'metric': False, 'topic': 'G', 'description': 'Substantiated complaints concerning breaches of customer privacy and losses of customer data. We did not receive any substantiated complaints regarding breaches of customer privacy or data in 2022 or in the three years prior.', 'tags': ['customer privacy', 'data security'], 'id': '2022.271', 'year': '2022', 'company': 'Qualcomm Incorporated'}),\n",
       " Document(page_content='Substantiated complaints concerning breaches of customer privacy and losses of customer data that were disclosed in the company’s SEC filings in FY19.', metadata={'value': 'none', 'metric': False, 'topic': 'S', 'description': 'Substantiated complaints concerning breaches of customer privacy and losses of customer data that were disclosed in the company’s SEC filings in FY19.', 'tags': ['customer privacy'], 'id': '2019.549', 'year': '2019', 'company': 'NVIDIA Corporation'}),\n",
       " Document(page_content='GRI Standard Disclosure Number for substantiated complaints concerning breaches of customer privacy and losses of customer data.', metadata={'value': '418-1', 'metric': False, 'topic': 'G', 'description': 'GRI Standard Disclosure Number for substantiated complaints concerning breaches of customer privacy and losses of customer data.', 'tags': ['GRI', 'disclosure'], 'id': '2019.268', 'year': '2019', 'company': 'Qualcomm Incorporated'}),\n",
       " Document(page_content='No substantiated complaints regarding breaches of customer privacy or data in 2019 or in the three years prior.', metadata={'value': 'none', 'metric': False, 'topic': 'G', 'description': 'No substantiated complaints regarding breaches of customer privacy or data in 2019 or in the three years prior.', 'tags': ['customer privacy'], 'id': '2019.264', 'year': '2019', 'company': 'Qualcomm Incorporated'}),\n",
       " Document(page_content='Number of complaints received from outside parties and substantiated by Qualcomm regarding breaches of customer privacy.', metadata={'value': '0', 'metric': True, 'topic': 'G', 'description': 'Number of complaints received from outside parties and substantiated by Qualcomm regarding breaches of customer privacy.', 'tags': ['customer privacy', 'compliance'], 'id': '2021.234', 'year': '2021', 'company': 'Qualcomm Incorporated'}),\n",
       " Document(page_content=\"Report providing information on Apple's transparency and compliance with government requests for customer data.\", metadata={'value': 'Transparency Report', 'metric': False, 'topic': 'G', 'description': \"Report providing information on Apple's transparency and compliance with government requests for customer data.\", 'tags': ['transparency', 'data privacy'], 'id': '2022.71', 'year': '2022', 'company': 'Apple Inc.'}),\n",
       " Document(page_content='Number of complaints (breaches of customer privacy) received from outside parties and substantiated by Qualcomm.', metadata={'value': '0', 'metric': True, 'topic': 'G', 'description': 'Number of complaints (breaches of customer privacy) received from outside parties and substantiated by Qualcomm.', 'tags': ['privacy', 'cybersecurity'], 'id': '2022.204', 'year': '2022', 'company': 'Qualcomm Incorporated'}),\n",
       " Document(page_content='Number of privacy-related customer support requests received.', metadata={'value': '48', 'metric': True, 'topic': 'S', 'description': 'Number of privacy-related customer support requests received.', 'tags': ['customer support', 'privacy'], 'id': '2022.340', 'year': '2022', 'company': 'Apple Inc.'}),\n",
       " Document(page_content='Incorporating privacy considerations into design and development processes, offering customers meaningful privacy choices, and responsibly collecting, managing, and using the customer data that we store.', metadata={'value': 'Privacy and data security', 'metric': False, 'topic': 'G', 'description': 'Incorporating privacy considerations into design and development processes, offering customers meaningful privacy choices, and responsibly collecting, managing, and using the customer data that we store.', 'tags': ['privacy', 'data security'], 'id': '2019.43', 'year': '2019', 'company': 'Microsoft Corporation'}),\n",
       " Document(page_content='Customers control what information is shared, where it’s shared, and when it is backed up.', metadata={'value': 'user information', 'metric': False, 'topic': 'G', 'description': 'Customers control what information is shared, where it’s shared, and when it is backed up.', 'tags': ['privacy', 'security'], 'id': '2021.164', 'year': '2021', 'company': 'Apple Inc.'}),\n",
       " Document(page_content='Description of the nature, context, and any corrective actions taken as a result of the monetary losses.', metadata={'value': 'N/A', 'metric': False, 'topic': 'G', 'description': 'Description of the nature, context, and any corrective actions taken as a result of the monetary losses.', 'tags': ['legal proceedings', 'anti-competitive behavior'], 'id': '2021.553', 'year': '2021', 'company': 'NVIDIA Corporation'}),\n",
       " Document(page_content='Description of the nature, context, and any corrective actions taken as a result of the monetary losses.', metadata={'value': 'N/A', 'metric': False, 'topic': 'G', 'description': 'Description of the nature, context, and any corrective actions taken as a result of the monetary losses.', 'tags': ['legal proceedings', 'anti-competitive behavior'], 'id': '2020.588', 'year': '2020', 'company': 'NVIDIA Corporation'}),\n",
       " Document(page_content='Compliance with the General Data Protection Regulation (GDPR) to protect customer data and honor their choices.', metadata={'value': 'GDPR', 'metric': False, 'topic': 'G', 'description': 'Compliance with the General Data Protection Regulation (GDPR) to protect customer data and honor their choices.', 'tags': ['data privacy'], 'id': '2021.169', 'year': '2021', 'company': 'NVIDIA Corporation'}),\n",
       " Document(page_content=\"Title of a report providing information about demands for customer data from the US government pursuant to national security laws, as well as Microsoft's responses to them.\", metadata={'value': 'US National Security Orders Report', 'metric': False, 'topic': 'G', 'description': \"Title of a report providing information about demands for customer data from the US government pursuant to national security laws, as well as Microsoft's responses to them.\", 'tags': ['security', 'customer data', 'national security'], 'id': '2019.38', 'year': '2019', 'company': 'Microsoft Corporation'}),\n",
       " Document(page_content='GRI 418: Customer Privacy.', metadata={'value': 'Customer Privacy', 'metric': False, 'topic': 'E', 'description': 'GRI 418: Customer Privacy.', 'tags': ['customer privacy'], 'id': '2019.519', 'year': '2019', 'company': 'NVIDIA Corporation'}),\n",
       " Document(page_content='Respecting privacy and implementing appropriate protections for any personal information collected or shared with us.', metadata={'value': 'personal information', 'metric': False, 'topic': 'G', 'description': 'Respecting privacy and implementing appropriate protections for any personal information collected or shared with us.', 'tags': ['privacy', 'data protection'], 'id': '2019.109', 'year': '2019', 'company': 'NVIDIA Corporation'}),\n",
       " Document(page_content=\"Title of a report providing information about legal demands for customer data from law enforcement agencies around the world, as well as Microsoft's responses to them.\", metadata={'value': 'Law Enforcement Requests Report', 'metric': False, 'topic': 'G', 'description': \"Title of a report providing information about legal demands for customer data from law enforcement agencies around the world, as well as Microsoft's responses to them.\", 'tags': ['security', 'customer data', 'law enforcement'], 'id': '2019.37', 'year': '2019', 'company': 'Microsoft Corporation'}),\n",
       " Document(page_content='Incidents of non-compliance concerning product and service information and labeling.', metadata={'value': '417-2', 'metric': False, 'topic': 'G', 'description': 'Incidents of non-compliance concerning product and service information and labeling.', 'tags': ['compliance', 'labeling'], 'id': '2020.560', 'year': '2020', 'company': 'NVIDIA Corporation'}),\n",
       " Document(page_content='Committee focused on customer and consumer privacy and data protection issues, composed of relevant stakeholders from various departments.', metadata={'value': 'Privacy Steering Committee', 'metric': False, 'topic': 'G', 'description': 'Committee focused on customer and consumer privacy and data protection issues, composed of relevant stakeholders from various departments.', 'tags': ['governance', 'privacy'], 'id': '2022.139', 'year': '2022', 'company': 'Qualcomm Incorporated'}),\n",
       " Document(page_content='Apple publishes a Transparency Report detailing government requests for customer data and app removal.', metadata={'value': 'Transparency Report', 'metric': False, 'topic': 'G', 'description': 'Apple publishes a Transparency Report detailing government requests for customer data and app removal.', 'tags': ['transparency', 'security'], 'id': '2021.165', 'year': '2021', 'company': 'Apple Inc.'}),\n",
       " Document(page_content='Number of requests for customer information received from government or law enforcement agencies.', metadata={'value': '4', 'metric': True, 'topic': 'G', 'description': 'Number of requests for customer information received from government or law enforcement agencies.', 'tags': ['privacy', 'cybersecurity'], 'id': '2022.203', 'year': '2022', 'company': 'Qualcomm Incorporated'}),\n",
       " Document(page_content=\"Apple's efforts to protect its customers, including filing an amicus brief in support of the EPA’s authority to regulate greenhouse gas emissions and filing a lawsuit against NSO Group and its parent company to hold it accountable for the surveillance and targeting of Apple users.\", metadata={'value': 'protection of customers', 'metric': False, 'topic': 'S', 'description': \"Apple's efforts to protect its customers, including filing an amicus brief in support of the EPA’s authority to regulate greenhouse gas emissions and filing a lawsuit against NSO Group and its parent company to hold it accountable for the surveillance and targeting of Apple users.\", 'tags': ['customer protection', 'legal action'], 'id': '2022.60', 'year': '2022', 'company': 'Apple Inc.'}),\n",
       " Document(page_content='Four principles outlined by Microsoft for legislative action and corporate accountability in privacy standards.', metadata={'value': 'Transparency, Consumer Empowerment, Corporate Responsibility, and Strong Enforcement', 'metric': False, 'topic': 'S', 'description': 'Four principles outlined by Microsoft for legislative action and corporate accountability in privacy standards.', 'tags': ['privacy', 'trust'], 'id': '2020.129', 'year': '2020', 'company': 'Microsoft Corporation'}),\n",
       " Document(page_content=\"Website providing information on Apple's commitment to privacy and data protection.\", metadata={'value': 'Privacy website', 'metric': False, 'topic': 'G', 'description': \"Website providing information on Apple's commitment to privacy and data protection.\", 'tags': ['privacy', 'data protection'], 'id': '2022.70', 'year': '2022', 'company': 'Apple Inc.'}),\n",
       " Document(page_content='Protect privacy and secure data.', metadata={'value': 'privacy and secure data', 'metric': False, 'topic': 'S', 'description': 'Protect privacy and secure data.', 'tags': ['privacy', 'data security'], 'id': '2021.110', 'year': '2021', 'company': 'Qualcomm Incorporated'}),\n",
       " Document(page_content='Conducted customer satisfaction surveys to gather feedback and improve customer experience.', metadata={'value': 'Customer satisfaction surveys', 'metric': True, 'topic': 'C', 'description': 'Conducted customer satisfaction surveys to gather feedback and improve customer experience.', 'tags': ['customer satisfaction'], 'id': '2021.37', 'year': '2021', 'company': 'Qualcomm Incorporated'}),\n",
       " Document(page_content='Membership in industry association focused on privacy and security issues.', metadata={'value': 'U.S. Chamber of Commerce', 'metric': False, 'topic': 'S', 'description': 'Membership in industry association focused on privacy and security issues.', 'tags': ['privacy', 'security', 'membership'], 'id': '2020.165', 'year': '2020', 'company': 'Qualcomm Incorporated'}),\n",
       " Document(page_content='No disclosure of potential risks of recruiting foreign nationals and/or offshore employees and management approach to addressing these risks.', metadata={'value': 'N/A', 'metric': False, 'topic': 'S', 'description': 'No disclosure of potential risks of recruiting foreign nationals and/or offshore employees and management approach to addressing these risks.', 'tags': ['workforce', 'risk management'], 'id': '2020.571', 'year': '2020', 'company': 'NVIDIA Corporation'}),\n",
       " Document(page_content='Number of privacy principles Microsoft focuses on in product development and privacy practices.', metadata={'value': 'six key privacy principles', 'metric': False, 'topic': 'S', 'description': 'Number of privacy principles Microsoft focuses on in product development and privacy practices.', 'tags': ['privacy', 'security'], 'id': '2019.27', 'year': '2019', 'company': 'Microsoft Corporation'}),\n",
       " Document(page_content=\"Number of sections in Apple's report related to caring for customers and suppliers.\", metadata={'value': '33', 'metric': False, 'topic': 'S', 'description': \"Number of sections in Apple's report related to caring for customers and suppliers.\", 'tags': ['report', 'sections'], 'id': '2021.14', 'year': '2021', 'company': 'Apple Inc.'}),\n",
       " Document(page_content='Incidents of non-compliance concerning product and service information and labeling that were disclosed in the company’s SEC filings in FY19.', metadata={'value': 'none', 'metric': False, 'topic': 'S', 'description': 'Incidents of non-compliance concerning product and service information and labeling that were disclosed in the company’s SEC filings in FY19.', 'tags': ['compliance'], 'id': '2019.548', 'year': '2019', 'company': 'NVIDIA Corporation'}),\n",
       " Document(page_content='Recognize that innovation, growth, and the success of our business and our industry depend on individuals’ trust in their use of technology and in the responsible, protected collection and processing of their data, and do not tolerate our products being used to violate human rights.', metadata={'value': 'trust in technology', 'metric': False, 'topic': 'G', 'description': 'Recognize that innovation, growth, and the success of our business and our industry depend on individuals’ trust in their use of technology and in the responsible, protected collection and processing of their data, and do not tolerate our products being used to violate human rights.', 'tags': ['trust', 'human rights'], 'id': '2021.42', 'year': '2021', 'company': 'Intel Corporation'}),\n",
       " Document(page_content='Key topics and concerns raised by stakeholders.', metadata={'value': '102-44', 'metric': False, 'topic': 'S', 'description': 'Key topics and concerns raised by stakeholders.', 'tags': ['stakeholder engagement'], 'id': '2021.500', 'year': '2021', 'company': 'NVIDIA Corporation'}),\n",
       " Document(page_content='Key topics and concerns raised by stakeholders.', metadata={'value': '102-44', 'metric': False, 'topic': 'S', 'description': 'Key topics and concerns raised by stakeholders.', 'tags': ['stakeholder engagement'], 'id': '2020.521', 'year': '2020', 'company': 'NVIDIA Corporation'}),\n",
       " Document(page_content='Adoption of a worldwide privacy policy and implementation of online privacy center to allow users to exercise their data subject rights, participation in the Privacy Shield, and training materials rolled out to all employees as part of GDPR plan.', metadata={'value': '100%', 'metric': True, 'topic': 'G', 'description': 'Adoption of a worldwide privacy policy and implementation of online privacy center to allow users to exercise their data subject rights, participation in the Privacy Shield, and training materials rolled out to all employees as part of GDPR plan.', 'tags': ['GDPR', 'data privacy'], 'id': '2019.391', 'year': '2019', 'company': 'NVIDIA Corporation'}),\n",
       " Document(page_content='Microsoft recognizes privacy as a fundamental human right and works to preserve customers’ ability to control their data and make informed choices to protect their privacy.', metadata={'value': 'none', 'metric': False, 'topic': 'E', 'description': 'Microsoft recognizes privacy as a fundamental human right and works to preserve customers’ ability to control their data and make informed choices to protect their privacy.', 'tags': ['privacy', 'human rights'], 'id': '2020.130', 'year': '2020', 'company': 'Microsoft Corporation'}),\n",
       " Document(page_content='Explanation of material topic and its boundary for Global Inclusion and Diversity, Our Corporate Responsibility Priorities, About this Report, Priorities, Privacy and Security.', metadata={'value': '103-1', 'metric': False, 'topic': 'G', 'description': 'Explanation of material topic and its boundary for Global Inclusion and Diversity, Our Corporate Responsibility Priorities, About this Report, Priorities, Privacy and Security.', 'tags': ['GRI', 'materiality'], 'id': '2019.265', 'year': '2019', 'company': 'Qualcomm Incorporated'}),\n",
       " Document(page_content='Apple undertakes Privacy Impact Assessments (PIAs) of its major products and services, considering decision-making that relies on algorithmic systems and the impact such decisions have on individuals and their rights.', metadata={'value': 'Privacy Impact Assessments', 'metric': False, 'topic': 'G', 'description': 'Apple undertakes Privacy Impact Assessments (PIAs) of its major products and services, considering decision-making that relies on algorithmic systems and the impact such decisions have on individuals and their rights.', 'tags': ['privacy', 'security'], 'id': '2021.168', 'year': '2021', 'company': 'Apple Inc.'}),\n",
       " Document(page_content=\"Number of cases discovered in Taiwan where people paid recruitment fees to secure their job, which is a violation of Apple's Code and Standards.\", metadata={'value': '2', 'metric': True, 'topic': 'S', 'description': \"Number of cases discovered in Taiwan where people paid recruitment fees to secure their job, which is a violation of Apple's Code and Standards.\", 'tags': ['recruitment fees', 'Taiwan'], 'id': '2022.318', 'year': '2022', 'company': 'Apple Inc.'}),\n",
       " Document(page_content=\"Apple's policy on reporting concerns about violations of the company's Business Conduct Policy, other Apple policies, or legal or regulatory requirements, and the availability of an external helpline for employees and external parties to report concerns.\", metadata={'value': 'Reporting concerns', 'metric': False, 'topic': 'G', 'description': \"Apple's policy on reporting concerns about violations of the company's Business Conduct Policy, other Apple policies, or legal or regulatory requirements, and the availability of an external helpline for employees and external parties to report concerns.\", 'tags': ['compliance', 'ethics'], 'id': '2021.373', 'year': '2021', 'company': 'Apple Inc.'}),\n",
       " Document(page_content='GRI Standard Disclosure Number for customer privacy.', metadata={'value': '2016418-1', 'metric': False, 'topic': 'G', 'description': 'GRI Standard Disclosure Number for customer privacy.', 'tags': ['GRI', 'disclosure'], 'id': '2019.263', 'year': '2019', 'company': 'Qualcomm Incorporated'}),\n",
       " Document(page_content=\"Features of NVIDIA's customer-facing privacy policy.\", metadata={'value': 'incorporates both a Cookie Policy and a Kids Privacy Policy', 'metric': False, 'topic': 'S', 'description': \"Features of NVIDIA's customer-facing privacy policy.\", 'tags': ['privacy', 'customer benefits'], 'id': '2021.137', 'year': '2021', 'company': 'NVIDIA Corporation'}),\n",
       " Document(page_content='Disclosure of monetary losses as a result of legal proceedings associated with employee health and safety violations.', metadata={'value': 'none', 'metric': False, 'topic': 'S', 'description': 'Disclosure of monetary losses as a result of legal proceedings associated with employee health and safety violations.', 'tags': ['employee health', 'safety', 'legal proceedings'], 'id': '2021.538', 'year': '2021', 'company': 'Intel Corporation'}),\n",
       " Document(page_content='Respond to requests for information from customers and share data directly with shareholders.', metadata={'value': 'Customers and shareholders', 'metric': False, 'topic': 'S', 'description': 'Respond to requests for information from customers and share data directly with shareholders.', 'tags': ['stakeholders', 'communication'], 'id': '2019.93', 'year': '2019', 'company': 'NVIDIA Corporation'}),\n",
       " Document(page_content='New topic that includes Business Continuity, Customer Relations, Product Quality and Safety, Public Policy Engagement, and Trade Issues.', metadata={'value': 'Innovation and Business Model', 'metric': False, 'topic': 'S', 'description': 'New topic that includes Business Continuity, Customer Relations, Product Quality and Safety, Public Policy Engagement, and Trade Issues.', 'tags': ['innovation', 'business model'], 'id': '2022.42', 'year': '2022', 'company': 'NVIDIA Corporation'}),\n",
       " Document(page_content='All Apple employees take annual training on business conduct, of which privacy is an essential component, and employees with access to customer data and personal information are required to undergo additional privacy and security training.', metadata={'value': 'annual training', 'metric': False, 'topic': 'G', 'description': 'All Apple employees take annual training on business conduct, of which privacy is an essential component, and employees with access to customer data and personal information are required to undergo additional privacy and security training.', 'tags': ['training', 'security'], 'id': '2021.169', 'year': '2021', 'company': 'Apple Inc.'}),\n",
       " Document(page_content=\"Description of the limitations of Intel's knowledge and control over how their products are used by customers.\", metadata={'value': 'not always know nor can control', 'metric': False, 'topic': 'E', 'description': \"Description of the limitations of Intel's knowledge and control over how their products are used by customers.\", 'tags': ['products'], 'id': '2020.174', 'year': '2020', 'company': 'Intel Corporation'})]"
      ]
     },
     "execution_count": 14,
     "metadata": {},
     "output_type": "execute_result"
    }
   ],
   "source": [
    "retriever.get_relevant_documents(\n",
    "    query, consider_metadata=True\n",
    ")"
   ]
  },
  {
   "cell_type": "code",
   "execution_count": 16,
   "metadata": {},
   "outputs": [
    {
     "name": "stdout",
     "output_type": "stream",
     "text": [
      "NVIDIA Corporation has been making strides in incorporating renewable energy into its operations. In FY19, 48% of NVIDIA's total electricity consumption came from renewable sources, and this increased to 56% in FY21. Furthermore, NVIDIA has been sourcing renewable energy through power purchase agreements (PPAs) or long-term contracts. In FY21, the company had 5.8 gigawatts of renewable energy via PPAs or long-term contracts. NVIDIA is also evaluating the implementation of onsite solar photovoltaic generation at its locations.\n",
      "\n",
      "When compared to other companies, NVIDIA is doing well in terms of renewable energy sourcing, but there is still room for improvement. Apple Inc., for instance, has achieved 100% renewable electricity for its facilities and supply chain. In addition, Apple has invested in various types of renewable energy projects, including solar, wind, biogas fuel cells, and low-impact hydro projects. Meanwhile, Intel Corporation has increased its use of green power from 71% to 82% in 2020, and has set a goal to source 65% of its global electricity use from renewable energy by the end of FY25.\n",
      "\n",
      "It is worth noting that NVIDIA's renewable energy purchases as a percentage of global electricity use in FY21 was 80%, which is lower than Intel's 82% in the same year. However, NVIDIA's goal is to source 65% of its global electricity use from renewable energy by the end of FY25, which is consistent with Intel's goal.\n",
      "\n",
      "In conclusion, while NVIDIA is making progress in incorporating renewable energy into its operations, there are opportunities to improve. The company could consider investing in a wider variety of renewable energy projects, like Apple, and aim to exceed its renewable energy sourcing goal, like Intel. Additionally, NVIDIA could provide more information on how it calculates emissions from its renewable energy program, including the use of a market-based approach and the removal of emissions reduction benefits, as Apple does.\n"
     ]
    }
   ],
   "source": [
    "from langchain_core.prompts import ChatPromptTemplate\n",
    "from langchain_core.output_parsers import StrOutputParser\n",
    "from langchain_core.runnables import RunnablePassthrough\n",
    "from langchain_together import Together\n",
    "\n",
    "# Initialize the Together model\n",
    "model = Together(\n",
    "    model=\"mistralai/Mixtral-8x7B-Instruct-v0.1\",\n",
    "    temperature=0.7,\n",
    "    max_tokens=1024,\n",
    "    top_k=50,\n",
    ")\n",
    "\n",
    "# Extended template to include conversation history\n",
    "\n",
    "company = \"NVIDIA\"\n",
    "\n",
    "template = \"\"\"\n",
    "<s>[INST] You are an agent speaking with a representative from {company}.\n",
    "Your goal is to assist the representative with questions regarding their sustainability practices.\n",
    "You are provided context regarding {company}'s sustainablity practices and your goal is to compare\n",
    "their practices with practices of other companies, for which context is given to you, in order to\n",
    "help them improve.\n",
    "Be critical with your response as well by noticing when metrics are missing or where they could be better.\n",
    "Answer the question with a detailed response based only on the following context, incorporating data from other companies:\n",
    "{context}\n",
    "\n",
    "Conversation History:\n",
    "{history}\n",
    "\n",
    "Representative: {question} [/INST] \n",
    "\"\"\"\n",
    "prompt = ChatPromptTemplate.from_template(template)\n",
    "\n",
    "# Initialize conversation history\n",
    "conversation_history = \"\"\n",
    "\n",
    "def update_history(question, answer):\n",
    "    global conversation_history\n",
    "    conversation_history += f\"Representative: {question}\\nAgent: {answer}\\n\"\n",
    "\n",
    "def get_response(input_query):\n",
    "    global conversation_history\n",
    "    # Define the chain with updated conversation history in the context\n",
    "    chain = (\n",
    "        {\n",
    "            \"context\": retriever, \n",
    "            \"history\": lambda x: conversation_history, \n",
    "            \"company\": lambda x: company, \n",
    "            \"question\": RunnablePassthrough()\n",
    "        }\n",
    "        | prompt\n",
    "        | model\n",
    "        | StrOutputParser()\n",
    "    )\n",
    "    \n",
    "    output = chain.invoke(input_query)\n",
    "    update_history(input_query, output)\n",
    "    return output\n",
    "\n",
    "# Example usage\n",
    "input_query = \"How do we currently incorporate renewable energy?\"\n",
    "output = get_response(input_query)\n",
    "print(output)"
   ]
  },
  {
   "cell_type": "code",
   "execution_count": 10,
   "metadata": {},
   "outputs": [
    {
     "name": "stdout",
     "output_type": "stream",
     "text": [
      "Based on the provided context, here are some areas where NVIDIA could consider for improvement:\n",
      "\n",
      "1. More Ambitious Renewable Energy Goals: While NVIDIA has made significant strides in renewable energy, they could consider setting more ambitious goals, such as aiming for 100% renewable energy like some other tech companies.\n",
      "\n",
      "2. Carbon Capture and Storage Technologies: NVIDIA could explore investing in carbon capture and storage technologies to reduce emissions. This could be particularly beneficial given their significant energy usage in data centers.\n",
      "\n",
      "3. Supplier Performance: NVIDIA already requires their key manufacturing suppliers to report their energy usage, GHG emissions data, and reduction goals. However, they could further improve by setting clear expectations and standards for their suppliers' renewable energy usage and emissions reduction.\n",
      "\n",
      "4. Employee Training: While NVIDIA fosters an environment of transparency and openness, they could further improve by providing training to their employees on sustainability practices. This could help ensure that all employees understand and contribute to the company's sustainability goals.\n",
      "\n",
      "5. Stakeholder Engagement: NVIDIA already engages with stakeholders on key topics and concerns. However, they could further improve by regularly reporting on their sustainability performance and progress in a transparent and accessible manner.\n",
      "\n",
      "6. Continuous Improvement: NVIDIA already has a commitment to tracking progress and incorporating what they learn into their work. They could further improve by setting specific, measurable, achievable, relevant, and time-bound (SMART) goals for their sustainability initiatives and regularly reviewing their progress towards these goals.\n",
      "\n",
      "7. Diversity and Inclusion: While NVIDIA is increasing the percentage of global female hires in engineering roles and the percentage of underrepresented group hires, they could further improve by setting clear targets and timelines for diversity and inclusion.\n",
      "\n",
      "8. Digital Inclusion: NVIDIA could consider expanding technology access and digital readiness for millions of people around the world who currently do not have the technology skills or access needed to participate and thrive in the digital economy.\n",
      "\n",
      "These are just a few areas where NVIDIA could consider for improvement. It's important to note that continuous improvement is key to sustainability, and NVIDIA should regularly review and update their sustainability practices to ensure they are aligned with best practices and stakeholder expectations.\n"
     ]
    }
   ],
   "source": [
    "output = get_response('Speak more about the room for improvement. In what areas can we improve?')\n",
    "print(output)"
   ]
  },
  {
   "cell_type": "code",
   "execution_count": 12,
   "metadata": {},
   "outputs": [
    {
     "name": "stdout",
     "output_type": "stream",
     "text": [
      "Sure, I'd be happy to provide some metrics on diversity in NVIDIA's workforce.\n",
      "\n",
      "In 2019, 89% of NVIDIA's employees said that the company has created an environment where people of diverse backgrounds can succeed. This is a strong indication of a diverse and inclusive workplace.\n",
      "\n",
      "In terms of gender diversity, NVIDIA has been increasing the percentage of global female hires in engineering roles. However, the specific figures for this metric are not provided in the context.\n",
      "\n",
      "Similarly, NVIDIA has been focusing on hiring underrepresented groups, but the specific metrics for this are also not provided.\n",
      "\n",
      "In 2019, NVIDIA participated in the Grace Hopper Celebration of Women in Computing conference, which is a significant event for women in technology. The number of NVIDIA employees who joined the conference is referred to as 'NVIDIANs', but the specific number is not provided.\n",
      "\n",
      "In terms of employee satisfaction, 97% of employees in 2021, 96% in 2020, and 90% in 2019 were proud to tell others they work at NVIDIA. This is another positive indicator of a diverse and inclusive workplace.\n",
      "\n",
      "In 2020, 92% of employees said that NVIDIA is a great place to work, and this figure increased to 96% in 2021. This suggests that NVIDIA's efforts to create a positive work environment are being recognized by its employees.\n",
      "\n",
      "In terms of employee engagement, the response rate of NVIDIA's latest global employee survey was 95% in 2019, indicating a high level of engagement and openness to feedback.\n",
      "\n",
      "Overall, while specific metrics on gender and underrepresented group diversity are not provided, the available metrics suggest that NVIDIA is creating a positive and inclusive workplace. However, there is always room for improvement, and setting clear targets and timelines for diversity and inclusion could be a useful next step for NVIDIA.\n"
     ]
    }
   ],
   "source": [
    "output = get_response('Nice. Provide some metrics on diversity in the workforce at NVIDIA.')\n",
    "print(output)"
   ]
  },
  {
   "cell_type": "code",
   "execution_count": 11,
   "metadata": {},
   "outputs": [
    {
     "name": "stdout",
     "output_type": "stream",
     "text": [
      "1. Solar Power: NVIDIA has installed solar panels on the roofs of several of its buildings, which generate a significant portion of the company's energy needs.\n",
      "\n",
      "2. Wind Energy: NVIDIA has also invested in wind energy. The company has a wind turbine at its headquarters in Santa Clara, California, which generates electricity for the campus.\n",
      "\n",
      "3. Energy Efficient Data Centers: NVIDIA designs its data centers to be as energy efficient as possible. The company uses advanced cooling systems and energy-efficient servers to reduce its data centers' overall energy consumption.\n",
      "\n",
      "4. Green Manufacturing: NVIDIA has implemented green manufacturing processes in its factories. These processes reduce waste, conserve resources, and lower greenhouse gas emissions.\n",
      "\n",
      "5. Renewable Energy Credits (RECs): NVIDIA purchases renewable energy credits (RECs) to offset its carbon footprint. RECs represent the environmental attributes of renewable energy generation and are used to support and grow the renewable energy market.\n",
      "\n",
      "6. Sustainable Supply Chain: NVIDIA works with its suppliers to reduce their environmental impact. The company encourages its suppliers to use renewable energy, implement energy-efficient practices, and reduce waste.\n",
      "\n",
      "7. Green Building Design: NVIDIA's buildings are designed to be energy efficient and sustainable. The company uses materials with low environmental impacts, incorporates natural light, and installs energy-efficient lighting and HVAC systems.\n",
      "\n",
      "8. Electric Vehicle Charging Stations: NVIDIA has installed electric vehicle charging stations at its headquarters and other locations. This encourages the use of electric vehicles, which are more energy efficient and produce fewer emissions than conventional vehicles.\n",
      "\n",
      "9. Research and Development: NVIDIA is involved in research and development of green technologies. The company is working on artificial intelligence and machine learning technologies that can be used to optimize energy use and reduce greenhouse gas emissions.\n",
      "\n",
      "10. Public Commitments: NVIDIA has made public commitments to reduce its environmental impact. The company has set a goal to reduce its greenhouse gas emissions by 50% by 2025, and it is a signatory to the Climate Pledge, a commitment to reach net-zero carbon emissions by 2040.\n"
     ]
    }
   ],
   "source": [
    "input_query_prompt = f\"<s>[INST] {input_query} [/INST] \"\n",
    "print(model(input_query_prompt))"
   ]
  },
  {
   "cell_type": "code",
   "execution_count": null,
   "metadata": {},
   "outputs": [],
   "source": []
  }
 ],
 "metadata": {
  "kernelspec": {
   "display_name": "Python 3",
   "language": "python",
   "name": "python3"
  },
  "language_info": {
   "codemirror_mode": {
    "name": "ipython",
    "version": 3
   },
   "file_extension": ".py",
   "mimetype": "text/x-python",
   "name": "python",
   "nbconvert_exporter": "python",
   "pygments_lexer": "ipython3",
   "version": "3.9.18"
  }
 },
 "nbformat": 4,
 "nbformat_minor": 2
}
