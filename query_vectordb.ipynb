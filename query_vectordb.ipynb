{
 "cells": [
  {
   "cell_type": "code",
   "execution_count": 1,
   "metadata": {},
   "outputs": [
    {
     "name": "stderr",
     "output_type": "stream",
     "text": [
      "/home/anish/experiments/oasis-scripts/venv/lib/python3.9/site-packages/tqdm/auto.py:21: TqdmWarning: IProgress not found. Please update jupyter and ipywidgets. See https://ipywidgets.readthedocs.io/en/stable/user_install.html\n",
      "  from .autonotebook import tqdm as notebook_tqdm\n"
     ]
    }
   ],
   "source": [
    "from langchain_iris import IRISVector\n",
    "from langchain.embeddings import HuggingFaceEmbeddings\n",
    "\n",
    "embeddings = HuggingFaceEmbeddings(model_name=\"all-mpnet-base-v2\")"
   ]
  },
  {
   "cell_type": "code",
   "execution_count": 2,
   "metadata": {},
   "outputs": [],
   "source": [
    "username = 'SUPERUSER'\n",
    "password = 'oasis' # Replace password with password you set \n",
    "# http://localhost:52773/csp/sys/UtilHome.csp\n",
    "# change from 'SYS'\n",
    "hostname = 'localhost' \n",
    "port = '1972' \n",
    "namespace = 'USER'\n",
    "CONNECTION_STRING = f\"iris://{username}:{password}@{hostname}:{port}/{namespace}\"\n",
    "COLLECTION_NAME = \"vectordb\"\n",
    "\n",
    "db = IRISVector(\n",
    "    embedding_function=embeddings,\n",
    "    dimension=768,\n",
    "    collection_name=COLLECTION_NAME,\n",
    "    connection_string=CONNECTION_STRING,\n",
    ")"
   ]
  },
  {
   "cell_type": "code",
   "execution_count": 26,
   "metadata": {},
   "outputs": [],
   "source": [
    "# db.delete_collection()"
   ]
  },
  {
   "cell_type": "code",
   "execution_count": 5,
   "metadata": {},
   "outputs": [],
   "source": [
    "query = \"tell me about women in leadership positions\"\n",
    "docs_with_score = db.similarity_search_with_score(query, k=10)"
   ]
  },
  {
   "cell_type": "code",
   "execution_count": 8,
   "metadata": {},
   "outputs": [
    {
     "name": "stdout",
     "output_type": "stream",
     "text": [
      "--------------------------------------------------------------------------------\n",
      "Score:  0.226270218587802\n",
      "{'value': '50 percent', 'metric': True, 'topic': 'S', 'description': 'Percentage of women in leadership roles globally.', 'tags': ['gender equality'], 'id': '2022.166', 'year': '2022', 'company': 'Apple Inc.'}\n",
      "--------------------------------------------------------------------------------\n",
      "--------------------------------------------------------------------------------\n",
      "Score:  0.235941607418301\n",
      "{'value': '16 percentage points', 'metric': True, 'topic': 'S', 'description': 'Increase in percentage of open leadership roles filled by women globally compared to the previous year.', 'tags': ['gender equality'], 'id': '2022.175', 'year': '2022', 'company': 'Apple Inc.'}\n",
      "--------------------------------------------------------------------------------\n",
      "--------------------------------------------------------------------------------\n",
      "Score:  0.246780538426522\n",
      "{'value': '47%', 'metric': True, 'topic': 'S', 'description': 'Percentage of open leadership roles filled by women globally.', 'tags': ['gender equality'], 'id': '2022.171', 'year': '2022', 'company': 'Apple Inc.'}\n",
      "--------------------------------------------------------------------------------\n",
      "--------------------------------------------------------------------------------\n",
      "Score:  0.257845050453581\n",
      "{'value': '11.0%', 'metric': True, 'topic': 'S', 'description': 'Percentage of leaders held by women in FY19.', 'tags': ['gender equality'], 'id': '2019.429', 'year': '2019', 'company': 'NVIDIA Corporation'}\n",
      "--------------------------------------------------------------------------------\n",
      "--------------------------------------------------------------------------------\n",
      "Score:  0.266915559245012\n",
      "{'value': '22.3%', 'metric': True, 'topic': 'G', 'description': 'Percentage of women in leadership positions in 2020.', 'tags': ['gender', 'diversity'], 'id': '2020.179', 'year': '2020', 'company': 'Qualcomm Incorporated'}\n",
      "--------------------------------------------------------------------------------\n",
      "--------------------------------------------------------------------------------\n",
      "Score:  0.274664640910499\n",
      "{'value': '1,449', 'metric': True, 'topic': 'S', 'description': 'Number of women in senior leadership roles across the globe at the end of 2021.', 'tags': ['diversity', 'inclusion'], 'id': '2021.254', 'year': '2021', 'company': 'Intel Corporation'}\n",
      "--------------------------------------------------------------------------------\n",
      "--------------------------------------------------------------------------------\n",
      "Score:  0.281116041982537\n",
      "{'value': '47%', 'metric': True, 'topic': 'S', 'description': 'Percentage of open leadership roles filled by women globally, an increase of 10 percentage points since 2020.', 'tags': ['leadership', 'gender equality'], 'id': '2022.19', 'year': '2022', 'company': 'Apple Inc.'}\n",
      "--------------------------------------------------------------------------------\n",
      "--------------------------------------------------------------------------------\n",
      "Score:  0.282597634579423\n",
      "{'value': '7%', 'metric': True, 'topic': 'G', 'description': 'Increase in representation of women in leadership since 2020.', 'tags': ['gender diversity'], 'id': '2022.238', 'year': '2022', 'company': 'Qualcomm Incorporated'}\n",
      "--------------------------------------------------------------------------------\n",
      "--------------------------------------------------------------------------------\n",
      "Score:  0.282597634579423\n",
      "{'value': '7 percent', 'metric': True, 'topic': 'S', 'description': 'Increase in representation of women in leadership since 2020.', 'tags': ['diversity', 'inclusion'], 'id': '2022.12', 'year': '2022', 'company': 'Qualcomm Incorporated'}\n",
      "--------------------------------------------------------------------------------\n",
      "--------------------------------------------------------------------------------\n",
      "Score:  0.300139900999324\n",
      "{'value': '12.0%', 'metric': True, 'topic': 'G', 'description': 'Percentage of leaders who are women in FY22.', 'tags': ['leadership diversity'], 'id': '2022.163', 'year': '2022', 'company': 'NVIDIA Corporation'}\n",
      "--------------------------------------------------------------------------------\n"
     ]
    }
   ],
   "source": [
    "for doc, score in docs_with_score:\n",
    "    print(\"-\" * 80)\n",
    "    print(\"Score: \", score)\n",
    "    print(doc.metadata)\n",
    "    print(\"-\" * 80)"
   ]
  },
  {
   "cell_type": "code",
   "execution_count": 15,
   "metadata": {},
   "outputs": [
    {
     "name": "stdout",
     "output_type": "stream",
     "text": [
      "tags=['IRISVector'] vectorstore=<langchain_iris.vectorstores.IRISVector object at 0x7f32b6164d00>\n"
     ]
    }
   ],
   "source": [
    "retriever = db.as_retriever()\n",
    "print(retriever)"
   ]
  }
 ],
 "metadata": {
  "kernelspec": {
   "display_name": "Python 3",
   "language": "python",
   "name": "python3"
  },
  "language_info": {
   "codemirror_mode": {
    "name": "ipython",
    "version": 3
   },
   "file_extension": ".py",
   "mimetype": "text/x-python",
   "name": "python",
   "nbconvert_exporter": "python",
   "pygments_lexer": "ipython3",
   "version": "3.9.18"
  }
 },
 "nbformat": 4,
 "nbformat_minor": 2
}
